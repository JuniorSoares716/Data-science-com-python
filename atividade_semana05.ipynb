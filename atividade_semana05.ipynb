{
  "nbformat": 4,
  "nbformat_minor": 0,
  "metadata": {
    "colab": {
      "name": "atividade-semana05.ipynb",
      "provenance": [],
      "collapsed_sections": [],
      "include_colab_link": true
    },
    "kernelspec": {
      "name": "python3",
      "display_name": "Python 3"
    }
  },
  "cells": [
    {
      "cell_type": "markdown",
      "metadata": {
        "id": "view-in-github",
        "colab_type": "text"
      },
      "source": [
        "<a href=\"https://colab.research.google.com/github/JuniorSoares716/Data-science-com-python/blob/master/atividade_semana05.ipynb\" target=\"_parent\"><img src=\"https://colab.research.google.com/assets/colab-badge.svg\" alt=\"Open In Colab\"/></a>"
      ]
    },
    {
      "cell_type": "markdown",
      "metadata": {
        "id": "AihuEWVdW8_E",
        "colab_type": "text"
      },
      "source": [
        "#Atividade da semana 05 do curso Data Science com Python\n",
        "### Assunto: Manipulação de dados usando Pandas e NumPy"
      ]
    },
    {
      "cell_type": "code",
      "metadata": {
        "id": "E8D1kF_z69Jm",
        "colab_type": "code",
        "colab": {}
      },
      "source": [
        "import pandas as pd\n",
        "import numpy as np\n",
        "\n",
        "from io import BytesIO\n",
        "import requests\n"
      ],
      "execution_count": 0,
      "outputs": []
    },
    {
      "cell_type": "markdown",
      "metadata": {
        "id": "wgQY9LVbEtUY",
        "colab_type": "text"
      },
      "source": [
        "1) Carregue o dataset sobre o COVID-19, disponível nessa URL: https://brasil.io/dataset/covid19/caso_full/?format=csv, em um novo projeto. Utilize o Pandas para fazer essa importação. A fonte dos dados é https://brasil.io/dataset/covid19/caso_full/. Nessa fonte de dados é possível visualizar a descrição de cada coluna (metadados)."
      ]
    },
    {
      "cell_type": "code",
      "metadata": {
        "id": "NFoA5mN4X4Vz",
        "colab_type": "code",
        "colab": {}
      },
      "source": [
        "csv_data = \"https://brasil.io/dataset/covid19/caso_full/?format=csv\"\n",
        "content_data = requests.get(csv_data).content\n",
        "\n",
        "df_data = pd.read_csv(BytesIO(content_data))\n",
        "df_data"
      ],
      "execution_count": 0,
      "outputs": []
    },
    {
      "cell_type": "markdown",
      "metadata": {
        "id": "oDSVU_VHFAyZ",
        "colab_type": "text"
      },
      "source": [
        "2) Qual registro desse dataset possui mais casos de COVID-19? Sugestão: utilize a coluna \"last_available_confirmed\". "
      ]
    },
    {
      "cell_type": "code",
      "metadata": {
        "id": "2AQONSuvX41-",
        "colab_type": "code",
        "colab": {
          "base_uri": "https://localhost:8080/",
          "height": 35
        },
        "outputId": "a7507970-13ef-478a-83d4-c3cbf6b424c1"
      },
      "source": [
        "dataMax = df_data[\"last_available_confirmed\"].max()\n",
        "dataMax"
      ],
      "execution_count": 197,
      "outputs": [
        {
          "output_type": "execute_result",
          "data": {
            "text/plain": [
              "172875"
            ]
          },
          "metadata": {
            "tags": []
          },
          "execution_count": 197
        }
      ]
    },
    {
      "cell_type": "markdown",
      "metadata": {
        "id": "oV49LKVmVyPp",
        "colab_type": "text"
      },
      "source": [
        "3) Quais são as cidades com mais de 100.000 habitantes que possuem menos de 500 casos de COVID-19? Sugestão: utilize a coluna \"is_last\" para verificar se é o último dado registrado, para isso ele deve possui o valor True. Utilize para identificar a população da cidade a coluna ```estimated_population_2019```."
      ]
    },
    {
      "cell_type": "code",
      "metadata": {
        "id": "4RcwlVLlX5V3",
        "colab_type": "code",
        "colab": {}
      },
      "source": [
        "df_data[((df_data[\"estimated_population_2019\"]) > 100000) & ((df_data[\"last_available_confirmed\"])<500) &((df_data[\"is_last\"])==True)]\n",
        "\n"
      ],
      "execution_count": 0,
      "outputs": []
    },
    {
      "cell_type": "markdown",
      "metadata": {
        "id": "jEut_U1dJMtc",
        "colab_type": "text"
      },
      "source": [
        "4) Quantos casos de COVID-19 a cidade de Fortaleza possui? Sugestão: utilize a coluna \"is_last\" para verificar se é o último dado registrado, para isso ele deve possui o valor True."
      ]
    },
    {
      "cell_type": "code",
      "metadata": {
        "id": "wVwP_ThrX53E",
        "colab_type": "code",
        "colab": {
          "base_uri": "https://localhost:8080/",
          "height": 54
        },
        "outputId": "6cf2b23d-43b5-459c-a29b-aa1cc135506b"
      },
      "source": [
        "data_Result = df_data[((df_data[\"is_last\"])==True) & ((df_data[\"city\"]) ==\"Fortaleza\")]\n",
        "data_Result[\"last_available_confirmed\"]"
      ],
      "execution_count": 199,
      "outputs": [
        {
          "output_type": "execute_result",
          "data": {
            "text/plain": [
              "634    30210\n",
              "Name: last_available_confirmed, dtype: int64"
            ]
          },
          "metadata": {
            "tags": []
          },
          "execution_count": 199
        }
      ]
    },
    {
      "cell_type": "markdown",
      "metadata": {
        "id": "TQ3PqOROJhEu",
        "colab_type": "text"
      },
      "source": [
        "5) Com exceção da cidade Fortaleza, qual é a média de casos e de óbtos ocasionados pelo COVID-19 nas demais cidades do Ceará? Sugestão: use as colunas \"last_available_deaths\" e \"last_available_confirmed\". OBS.: o sinal de diferença é ```!=```."
      ]
    },
    {
      "cell_type": "code",
      "metadata": {
        "id": "xAgrm5GNX6Tv",
        "colab_type": "code",
        "colab": {
          "base_uri": "https://localhost:8080/",
          "height": 181
        },
        "outputId": "04fac7de-f45f-4e20-bf34-863eab4883d6"
      },
      "source": [
        "data_Result_Media = df_data[((df_data[\"is_last\"])==True) & ((df_data[\"city\"]) !=\"Fortaleza\") & ((df_data[\"state\"]) ==\"CE\")]\n",
        "data_Result_Media_Casos = data_Result_Media[\"last_available_confirmed\"]\n",
        "data_Result_Media_Obtos = data_Result_Media[\"last_available_deaths\"]\n",
        "\n",
        "data_Result_Media_Casos.describe()\n",
        "# data_Result_Media_Obtos.shape"
      ],
      "execution_count": 226,
      "outputs": [
        {
          "output_type": "execute_result",
          "data": {
            "text/plain": [
              "count      184.000000\n",
              "mean       663.059783\n",
              "std       5635.334115\n",
              "min          1.000000\n",
              "25%         37.750000\n",
              "50%        101.500000\n",
              "75%        272.250000\n",
              "max      76429.000000\n",
              "Name: last_available_confirmed, dtype: float64"
            ]
          },
          "metadata": {
            "tags": []
          },
          "execution_count": 226
        }
      ]
    },
    {
      "cell_type": "code",
      "metadata": {
        "id": "s6kpx395KOit",
        "colab_type": "code",
        "colab": {
          "base_uri": "https://localhost:8080/",
          "height": 35
        },
        "outputId": "777f6da6-49f9-4fb7-f044-781900a3f8fe"
      },
      "source": [
        "#Resultado da media de Casos tirando Fortaleza\n",
        "result_Media_Casos = data_Result_Media_Casos.mean()\n",
        "result_Media_Casos"
      ],
      "execution_count": 213,
      "outputs": [
        {
          "output_type": "execute_result",
          "data": {
            "text/plain": [
              "663.0597826086956"
            ]
          },
          "metadata": {
            "tags": []
          },
          "execution_count": 213
        }
      ]
    },
    {
      "cell_type": "code",
      "metadata": {
        "id": "vCI4llzlJws8",
        "colab_type": "code",
        "colab": {
          "base_uri": "https://localhost:8080/",
          "height": 35
        },
        "outputId": "ea90e74e-304e-4cd6-8d3c-bf70718135d5"
      },
      "source": [
        "#Resultado da media de obtos tirando Fortaleza\n",
        "result_Media_Obtos = data_Result_Media_Obtos.mean()\n",
        "result_Media_Obtos"
      ],
      "execution_count": 214,
      "outputs": [
        {
          "output_type": "execute_result",
          "data": {
            "text/plain": [
              "36.91847826086956"
            ]
          },
          "metadata": {
            "tags": []
          },
          "execution_count": 214
        }
      ]
    },
    {
      "cell_type": "markdown",
      "metadata": {
        "id": "WDZJRP-0KAW9",
        "colab_type": "text"
      },
      "source": [
        "6) Importe o NumPy e, usando esta biblioteca, crie uma matriz bidimencional contendo a quantidade de casos e a quantidade de óbitos de cada cidade do ceará, exceto a cidade de Fortaleza. "
      ]
    },
    {
      "cell_type": "code",
      "metadata": {
        "id": "5vrfuKnxX6xL",
        "colab_type": "code",
        "colab": {}
      },
      "source": [
        "Matriz_Casos_Obtos = np.array([data_Result_Media_Casos,data_Result_Media_Obtos]).T\n",
        "Matriz_Casos_Obtos"
      ],
      "execution_count": 0,
      "outputs": []
    },
    {
      "cell_type": "markdown",
      "metadata": {
        "id": "VJIpG5PLTfEQ",
        "colab_type": "text"
      },
      "source": [
        "7) Calcule o desvio padrão e a variância dos **casos confirmados** de COVID-19 sobre o conjunto de dados criado na questão 5."
      ]
    },
    {
      "cell_type": "code",
      "metadata": {
        "id": "ODnai37YX7R7",
        "colab_type": "code",
        "colab": {}
      },
      "source": [
        "# data_Result_Media_Casos\n",
        "Des_Padao_Casos = np.std(data_Result_Media_Casos)\n",
        "Variac_Casos = np.var(data_Result_Media_Casos)\n",
        "\n",
        "\n",
        " "
      ],
      "execution_count": 0,
      "outputs": []
    },
    {
      "cell_type": "code",
      "metadata": {
        "id": "_e2OpbVlkmsS",
        "colab_type": "code",
        "colab": {
          "base_uri": "https://localhost:8080/",
          "height": 35
        },
        "outputId": "58c390f3-8d84-480d-c166-27396b3412de"
      },
      "source": [
        "Des_Padao_Casos"
      ],
      "execution_count": 223,
      "outputs": [
        {
          "output_type": "execute_result",
          "data": {
            "text/plain": [
              "5619.999844471602"
            ]
          },
          "metadata": {
            "tags": []
          },
          "execution_count": 223
        }
      ]
    },
    {
      "cell_type": "code",
      "metadata": {
        "id": "X5bJtdomknFL",
        "colab_type": "code",
        "colab": {
          "base_uri": "https://localhost:8080/",
          "height": 35
        },
        "outputId": "6eac4e58-9ba5-4951-b8ba-4c89736da366"
      },
      "source": [
        "Variac_Casos"
      ],
      "execution_count": 224,
      "outputs": [
        {
          "output_type": "execute_result",
          "data": {
            "text/plain": [
              "31584398.25186083"
            ]
          },
          "metadata": {
            "tags": []
          },
          "execution_count": 224
        }
      ]
    },
    {
      "cell_type": "markdown",
      "metadata": {
        "id": "nKLlknROTrsG",
        "colab_type": "text"
      },
      "source": [
        "8) Calcule o desvio padrão e a variância dos **óbitos** de COVID-19 sobre o conjunto de dados criado na questão 5."
      ]
    },
    {
      "cell_type": "code",
      "metadata": {
        "id": "3de19Rd_X7y_",
        "colab_type": "code",
        "colab": {}
      },
      "source": [
        "Des_Padao_Obtos = np.std(data_Result_Media_Obtos)\n",
        "Variac_Obtos = np.var(data_Result_Media_Obtos)\n",
        "\n",
        "\n"
      ],
      "execution_count": 0,
      "outputs": []
    },
    {
      "cell_type": "code",
      "metadata": {
        "id": "4tD9TlPbtzti",
        "colab_type": "code",
        "colab": {
          "base_uri": "https://localhost:8080/",
          "height": 35
        },
        "outputId": "386bb4da-ef0c-4434-8973-943e0e8f6ce0"
      },
      "source": [
        "Des_Padao_Obtos "
      ],
      "execution_count": 229,
      "outputs": [
        {
          "output_type": "execute_result",
          "data": {
            "text/plain": [
              "355.16604947831394"
            ]
          },
          "metadata": {
            "tags": []
          },
          "execution_count": 229
        }
      ]
    },
    {
      "cell_type": "code",
      "metadata": {
        "id": "arWsj0srlfoV",
        "colab_type": "code",
        "colab": {
          "base_uri": "https://localhost:8080/",
          "height": 35
        },
        "outputId": "5455a3c4-bc06-49ab-eb2c-59dff014b26a"
      },
      "source": [
        "Variac_Obtos"
      ],
      "execution_count": 230,
      "outputs": [
        {
          "output_type": "execute_result",
          "data": {
            "text/plain": [
              "126142.92270203213"
            ]
          },
          "metadata": {
            "tags": []
          },
          "execution_count": 230
        }
      ]
    }
  ]
}