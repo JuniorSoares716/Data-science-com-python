{
  "nbformat": 4,
  "nbformat_minor": 0,
  "metadata": {
    "kernelspec": {
      "display_name": "Python 3",
      "language": "python",
      "name": "python3"
    },
    "language_info": {
      "codemirror_mode": {
        "name": "ipython",
        "version": 3
      },
      "file_extension": ".py",
      "mimetype": "text/x-python",
      "name": "python",
      "nbconvert_exporter": "python",
      "pygments_lexer": "ipython3",
      "version": "3.6.9"
    },
    "colab": {
      "name": "Atividade-021.ipynb",
      "provenance": [],
      "collapsed_sections": []
    }
  },
  "cells": [
    {
      "cell_type": "markdown",
      "metadata": {
        "id": "rUqbsRWJYHZ7",
        "colab_type": "text"
      },
      "source": [
        "\n",
        "# <font color='blue'>Curso FIC - Data Science com Python -\n",
        "</font>\n",
        "\n",
        "## Atividade: Condicionais, Estruturas de Repetição e Funções "
      ]
    },
    {
      "cell_type": "markdown",
      "metadata": {
        "id": "URLPHe4DYHaN",
        "colab_type": "text"
      },
      "source": [
        "## Lista de Exercícios II"
      ]
    },
    {
      "cell_type": "markdown",
      "metadata": {
        "id": "gZkQT5s-stAd",
        "colab_type": "text"
      },
      "source": [
        "#Condicionais e Repetição"
      ]
    },
    {
      "cell_type": "code",
      "metadata": {
        "id": "88iP_3k-YHaO",
        "colab_type": "code",
        "colab": {
          "base_uri": "https://localhost:8080/",
          "height": 34
        },
        "outputId": "2c480a75-e7b2-4f29-92f7-c2f7efc9cde2"
      },
      "source": [
        "# Exercício 1 - Construa uma lista de 6 alimentos e verifique se o alimento 'Arroz' consta nesta lista\n",
        "lista = [\"Macarrão\", \"Arroz\",\"Feijão\", \"Carne\", \"Biscoito\", \"Farinha\"]\n",
        "for i in lista:\n",
        "  if 'Arroz' in i:\n",
        "      print(\"contem\")"
      ],
      "execution_count": 11,
      "outputs": [
        {
          "output_type": "stream",
          "text": [
            "contem\n"
          ],
          "name": "stdout"
        }
      ]
    },
    {
      "cell_type": "code",
      "metadata": {
        "id": "8m9NYfHeYHaZ",
        "colab_type": "code",
        "colab": {
          "base_uri": "https://localhost:8080/",
          "height": 34
        },
        "outputId": "8d2eac9d-c5a4-421f-c493-fc68fd5d3a92"
      },
      "source": [
        "# Exercício 2 - Construa uma tupla com 3 elementos, multiplique cada elemento da tupla por 4 e armazene os resultados em uma\n",
        "# lista\n",
        "tupla = (2,3,4)\n",
        "lista = []\n",
        "for i in tupla:\n",
        "  lista.append(i*4)\n",
        "print(lista)"
      ],
      "execution_count": 15,
      "outputs": [
        {
          "output_type": "stream",
          "text": [
            "[8, 12, 16]\n"
          ],
          "name": "stdout"
        }
      ]
    },
    {
      "cell_type": "code",
      "metadata": {
        "id": "SlrPfDhcYHaj",
        "colab_type": "code",
        "colab": {}
      },
      "source": [
        "# Exercício 3 - Construa uma sequência de números pares entre 50 e 140 e apresente na tela\n",
        "for i in range(50,141):\n",
        "  if(i%2 == 0):\n",
        "    print(i) "
      ],
      "execution_count": 0,
      "outputs": []
    },
    {
      "cell_type": "code",
      "metadata": {
        "id": "59L5p-myYHau",
        "colab_type": "code",
        "colab": {
          "base_uri": "https://localhost:8080/",
          "height": 34
        },
        "outputId": "603d383b-da75-4ab6-f4f8-d750e3eb86b0"
      },
      "source": [
        "# Exercício 4 - Construa uma lista a partir de uma função range: range(4, 35, 3)\n",
        "lista_const = []\n",
        "for i in range(4,35,3):\n",
        "  lista_const.append(i)\n",
        "print(lista_const)\n"
      ],
      "execution_count": 21,
      "outputs": [
        {
          "output_type": "stream",
          "text": [
            "[4, 7, 10, 13, 16, 19, 22, 25, 28, 31, 34]\n"
          ],
          "name": "stdout"
        }
      ]
    },
    {
      "cell_type": "markdown",
      "metadata": {
        "id": "McLKhorb95CF",
        "colab_type": "text"
      },
      "source": [
        "###Funções"
      ]
    },
    {
      "cell_type": "code",
      "metadata": {
        "id": "pG6W2vCRCKgD",
        "colab_type": "code",
        "colab": {
          "base_uri": "https://localhost:8080/",
          "height": 34
        },
        "outputId": "5bcbaa56-c182-43a3-afa2-bbbc77416067"
      },
      "source": [
        "# Exercício 5 - Construa uma função que receba como parâmetro uma lista com 5 elementos, adicione 2 elementos a essa lista e \n",
        "# apresente a lista\n",
        "def recebe_lista(lista):\n",
        "    a = 6\n",
        "    b = 7\n",
        "    lista.append(a)\n",
        "    lista.append(b)\n",
        "    print(lista)\n",
        "\n",
        "lista_val = [1,2,3,4,5]\n",
        "recebe_lista(lista_val)\n"
      ],
      "execution_count": 27,
      "outputs": [
        {
          "output_type": "stream",
          "text": [
            "[1, 2, 3, 4, 5, 6, 7]\n"
          ],
          "name": "stdout"
        }
      ]
    },
    {
      "cell_type": "code",
      "metadata": {
        "id": "hU2ySV9j9gwU",
        "colab_type": "code",
        "colab": {}
      },
      "source": [
        "# Exercício 6\n",
        "# Calculadora simples em Python utilizando funções\n",
        "# Abaixo é apresentada uma pré-construção do código. Considerando os conceitos\n",
        "# vistos até o momento, conclua a implementação do referido código. \n",
        "# Fique a vontade para inserir recusos adicionais e assim enriquecer a sua calculadora.  \n",
        "def soma():\n",
        "    a = float(input(\"Digite o primeiro valor: \"))\n",
        "    b = float(input(\"Digite o segundo valor: \"))\n",
        "    print(\"A soma dos valores informados: \", a + b) \n",
        "\n",
        "def subtracao():\n",
        "    a = float(input(\"Digite o primeiro valor: \"))\n",
        "    b = float(input(\"Digite o segundo valor: \"))\n",
        "    print(\"A subtracao dos valores informados: \", a - b) \n",
        "    pass\n",
        "\n",
        "def multiplicacao():\n",
        "    a = float(input(\"Digite o primeiro valor: \"))\n",
        "    b = float(input(\"Digite o segundo valor: \"))\n",
        "    print(\"A multiplicacao dos valores informados: \", a * b) \n",
        "    pass\n",
        "\n",
        "def divisao():  \n",
        "    a = float(input(\"Digite o primeiro valor: \"))\n",
        "    b = float(input(\"Digite o segundo valor: \"))\n",
        "    if(b>0):\n",
        "       print(\"A divisao dos valores informados: \", a / b) \n",
        "    else:\n",
        "      print(\"valor é 0, pois não divide numero por 0\")\n",
        "    pass\n",
        "\n",
        "# Bloco de reptetição \n",
        "opcao=1\n",
        "while opcao:\n",
        "\n",
        "    print(\"0. Para sair do programa\") \n",
        "    print(\"1. Para soma\")\n",
        "    print(\"2. Para subtracao\")\n",
        "    print(\"3. Para multiplicacao\")\n",
        "    print(\"4. Para divisao\")\n",
        "\n",
        "\n",
        "    # ?\n",
        "    # ?\n",
        "    opcao = int(input(\"Qual operação deseja realizar: \"))\n",
        "\n",
        "# Testes condicionais \n",
        "    if(opcao == 1):\n",
        "        soma()\n",
        "    if(opcao == 2):\n",
        "       subtracao()\n",
        "    if(opcao == 3):\n",
        "      multiplicacao()\n",
        "    if(opcao == 4):\n",
        "      divisao()\n",
        "    if(opcao == 0):\n",
        "       opcao = 0\n",
        "    \n"
      ],
      "execution_count": 0,
      "outputs": []
    },
    {
      "cell_type": "code",
      "metadata": {
        "id": "WOoaq6KfYHa6",
        "colab_type": "code",
        "colab": {
          "base_uri": "https://localhost:8080/",
          "height": 153
        },
        "outputId": "3f258c60-029b-48b1-d21f-3ba49316e30f"
      },
      "source": [
        "# Exercício 7\n",
        "# Construa um dicionário e apresente todos os métodos e atributos desse dicionário\n",
        "dicinario_valores = {\"feijoada\": 6.50,\n",
        "                     \"batata\": 10.50}\n",
        "discionario_r = {\"Macarrão\": 2.50, \n",
        "                 \"Arroz\": 3.50,\n",
        "                 \"Feijão\": 4.50,\n",
        "                 \"Carne\": 12.50, \n",
        "                 \"Biscoito\": 1.50}\n",
        "print(len(discionario_r))\n",
        "print(discionario_r.keys())\n",
        "print(discionario_r.values())\n",
        "print(discionario_r.items())\n",
        "discionario_r.clear()\n",
        "print(discionario_r)\n",
        "print(len(discionario_r))\n",
        "\n",
        "discionario_r.update(dicinario_valores)\n",
        "print(discionario_r)\n",
        "print(len(discionario_r))\n",
        "\n",
        "\n",
        "\n",
        "\n"
      ],
      "execution_count": 38,
      "outputs": [
        {
          "output_type": "stream",
          "text": [
            "5\n",
            "dict_keys(['Macarrão', 'Arroz', 'Feijão', 'Carne', 'Biscoito'])\n",
            "dict_values([2.5, 3.5, 4.5, 12.5, 1.5])\n",
            "dict_items([('Macarrão', 2.5), ('Arroz', 3.5), ('Feijão', 4.5), ('Carne', 12.5), ('Biscoito', 1.5)])\n",
            "{}\n",
            "0\n",
            "{'feijoada': 6.5, 'batata': 10.5}\n",
            "2\n"
          ],
          "name": "stdout"
        }
      ]
    },
    {
      "cell_type": "markdown",
      "metadata": {
        "id": "q9M90fHAYHbg",
        "colab_type": "text"
      },
      "source": [
        "# Fim"
      ]
    },
    {
      "cell_type": "markdown",
      "metadata": {
        "id": "rHBi6fb6YHbh",
        "colab_type": "text"
      },
      "source": [
        "###Obrigado - Data Science com Python - <a href=\"http://web.ficemcasa.ifce.edu.br/\">web.ficemcasa.ifce.edu.br</a>"
      ]
    }
  ]
}