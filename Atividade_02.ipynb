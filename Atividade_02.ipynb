{
  "nbformat": 4,
  "nbformat_minor": 0,
  "metadata": {
    "kernelspec": {
      "display_name": "Python 3",
      "language": "python",
      "name": "python3"
    },
    "language_info": {
      "codemirror_mode": {
        "name": "ipython",
        "version": 3
      },
      "file_extension": ".py",
      "mimetype": "text/x-python",
      "name": "python",
      "nbconvert_exporter": "python",
      "pygments_lexer": "ipython3",
      "version": "3.6.9"
    },
    "colab": {
      "name": "Atividade-02.ipynb",
      "provenance": []
    }
  },
  "cells": [
    {
      "cell_type": "markdown",
      "metadata": {
        "id": "rUqbsRWJYHZ7",
        "colab_type": "text"
      },
      "source": [
        "\n",
        "# <font color='blue'>Curso FIC - Data Science com Python -\n",
        "</font>\n",
        "\n",
        "## Atividade tipos básicos Python"
      ]
    },
    {
      "cell_type": "markdown",
      "metadata": {
        "id": "URLPHe4DYHaN",
        "colab_type": "text"
      },
      "source": [
        "## Lista de Exercícios I"
      ]
    },
    {
      "cell_type": "code",
      "metadata": {
        "id": "88iP_3k-YHaO",
        "colab_type": "code",
        "colab": {
          "base_uri": "https://localhost:8080/",
          "height": 204
        },
        "outputId": "267390ad-ab70-485e-c876-668a10bbb270"
      },
      "source": [
        "# Exercício 1 - Apresente na tela os números de 1 a 10. Crie uma lista para armazenar esses números.\n",
        "lista = []\n",
        "for i in range(1,11):\n",
        "  print(i)\n",
        "  lista.append(i)\n",
        "print(lista)"
      ],
      "execution_count": 42,
      "outputs": [
        {
          "output_type": "stream",
          "text": [
            "1\n",
            "2\n",
            "3\n",
            "4\n",
            "5\n",
            "6\n",
            "7\n",
            "8\n",
            "9\n",
            "10\n",
            "[1, 2, 3, 4, 5, 6, 7, 8, 9, 10]\n"
          ],
          "name": "stdout"
        }
      ]
    },
    {
      "cell_type": "code",
      "metadata": {
        "id": "8m9NYfHeYHaZ",
        "colab_type": "code",
        "colab": {}
      },
      "source": [
        "# Exercício 2 - Crie uma lista de 5 objetos e apresente na tela.\n",
        "lista1 = [\"maça\", \"arroz\", \"macarrão\", \"farinha\", \"biscoito\"]\n",
        "for i in lista1:\n",
        "  print(i)\n"
      ],
      "execution_count": 0,
      "outputs": []
    },
    {
      "cell_type": "code",
      "metadata": {
        "id": "SlrPfDhcYHaj",
        "colab_type": "code",
        "colab": {}
      },
      "source": [
        "# Exercício 3 - Crie três strings e concatene as três em uma quarta string\n",
        "string1 = 'maria'\n",
        "string2 = 'casada'\n",
        "string3 = 'joão'\n",
        "\n",
        "\n",
        "string4 = string1 +' é '+ string2+ ' com ' + string3\n",
        "\n",
        "print(string4)"
      ],
      "execution_count": 0,
      "outputs": []
    },
    {
      "cell_type": "code",
      "metadata": {
        "id": "59L5p-myYHau",
        "colab_type": "code",
        "colab": {}
      },
      "source": [
        "# Exercício 4 - Crie uma tupla com os seguintes elementos: 1, 1, 1, 2, 2, 3, 3, 3, 4, 5, 5, 6 e depois utilize a função count do \n",
        "# objeto tupla para verificar quantas vezes o número 3 aparece na tupla\n",
        "tupla = (1, 1, 1, 2, 2, 3, 3, 3, 4, 5, 5, 6)\n",
        "count = tupla.count(3)\n",
        "print(count)"
      ],
      "execution_count": 0,
      "outputs": []
    },
    {
      "cell_type": "code",
      "metadata": {
        "id": "WOoaq6KfYHa6",
        "colab_type": "code",
        "colab": {}
      },
      "source": [
        "# Exercício 5 - Crie um dicionário sem valores e em seguida apresente na tela.\n",
        "dicionario = {}\n",
        "print(dicionario)"
      ],
      "execution_count": 0,
      "outputs": []
    },
    {
      "cell_type": "code",
      "metadata": {
        "id": "ElqsPWP2YHbA",
        "colab_type": "code",
        "colab": {}
      },
      "source": [
        "# Exercício 6 - Crie um dicionário contendo as seguintes informações: 3 chaves e 3 valores. Após a criação exiba esse dicionário na tela.\n",
        "conteudo_Dics = {\"nome\": \"Junior\", \"idade\": 24, \"Curso\": \"Sistema de Informação\"}\n",
        "print(conteudo_Dics)"
      ],
      "execution_count": 0,
      "outputs": []
    },
    {
      "cell_type": "code",
      "metadata": {
        "id": "uEXB3eM6YHbM",
        "colab_type": "code",
        "colab": {}
      },
      "source": [
        "# Exercício 7 - Adicione mais dois elemento ao dicionário criado no Exercício 6 e exiba na tela.\n",
        "conteudo_Extra = {\"Cidade\": \"Cedro-CE\"}\n",
        "conteudo_Dics.update(conteudo_Extra)\n",
        "print(conteudo_Dics)"
      ],
      "execution_count": 0,
      "outputs": []
    },
    {
      "cell_type": "code",
      "metadata": {
        "id": "hP0EqGsXYHbR",
        "colab_type": "code",
        "colab": {}
      },
      "source": [
        "# Exercício 8 - Crie um dicionário com 4 chaves e 4 valores. Um dos valores deve ser uma lista de 3 elementos numéricos. \n",
        "# Exiba o dicionário na tela.\n",
        "lista_Num =[1,2,3]\n",
        "disc_val = {\"pais\": \"Brasil\",\n",
        "            \"estado\": \"Ceara\", \n",
        "            \"Cidade\": \"Cedro\", \n",
        "            \"numeros\": lista_Num \n",
        "            }\n",
        "print(disc_val)"
      ],
      "execution_count": 0,
      "outputs": []
    },
    {
      "cell_type": "code",
      "metadata": {
        "id": "89G2i9J2YHbV",
        "colab_type": "code",
        "colab": {}
      },
      "source": [
        "# Exercício 9 - Crie uma lista de 5 elementos. O primeiro elemento deve ser uma string, \n",
        "# o segundo uma tupla de 3 elementos, o terceiro um dicionário com 3 chaves e 3 valores \n",
        "# o quarto elemento um valor do tipo float.\n",
        "# e o quinto elemento um valor do tipo inteiro.\n",
        "# Exiba a lista na tela.\n",
        "\n",
        "tupla = (1,2,3)\n",
        "discionario = {\"pais\": \"Brasil\",\n",
        "              \"estado\": \"Ceara\", \n",
        "              \"Cidade\": \"Cedro\"}\n",
        "lista_obj = [\"um\", tupla, discionario, 3.5, 4]\n",
        "print(lista_obj)"
      ],
      "execution_count": 0,
      "outputs": []
    },
    {
      "cell_type": "code",
      "metadata": {
        "id": "Ve-eryrOYHba",
        "colab_type": "code",
        "colab": {}
      },
      "source": [
        "# Exercício 10 - Analise a string apresentada abaixo e imprima apenas os caracteres da posição 1 a 18.\n",
        "frase = 'Data Science com Python - os primeiros passos em ciencia de dados'\n",
        "\n",
        "number = 0\n",
        "for conteudo in frase:\n",
        "   if(number < 18):\n",
        "       print(conteudo)\n",
        "       number+=1"
      ],
      "execution_count": 0,
      "outputs": []
    },
    {
      "cell_type": "markdown",
      "metadata": {
        "id": "q9M90fHAYHbg",
        "colab_type": "text"
      },
      "source": [
        "# Fim"
      ]
    },
    {
      "cell_type": "markdown",
      "metadata": {
        "id": "rHBi6fb6YHbh",
        "colab_type": "text"
      },
      "source": [
        "###Obrigado - Data Science com Python - <a href=\"http://web.ficemcasa.ifce.edu.br/\">web.ficemcasa.ifce.edu.br</a>"
      ]
    }
  ]
}